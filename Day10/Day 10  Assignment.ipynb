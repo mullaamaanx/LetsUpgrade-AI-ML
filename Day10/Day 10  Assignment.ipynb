{
 "cells": [
  {
   "cell_type": "markdown",
   "metadata": {},
   "source": [
    "# Hypothesis 1\n",
    "\n",
    "### Null Hypothesis:\n",
    "\n",
    "The mean age of an employee who has attrited is found to be 33 with a standard deviation of 9.67.\n",
    "\n",
    "### Alternative Hypothesis:\n",
    "\n",
    "The mean age of an employee who has attrited is not equal to 33\n",
    "To determine if this is true, a sample of 70 attrited employees was taken and their mean age was found to be 34."
   ]
  },
  {
   "cell_type": "markdown",
   "metadata": {},
   "source": [
    "# Hypothesis 2\n",
    "\n",
    "### Null Hypothesis:\n",
    "\n",
    "The mean monthly income of attrited employees was found to be Rs.61,000 with a standard deviation of 44890\n",
    "\n",
    "### Alternative Hypothesis:\n",
    "\n",
    "The mean monthly income of attrited employees is not Rs.61,000.\n",
    "To determine if this is true, a sample of 70 attrited employees was taken and their mean monthly income was found to be Rs.64,650.\n",
    "\n"
   ]
  },
  {
   "cell_type": "markdown",
   "metadata": {},
   "source": [
    "# Hypothesis 3\n",
    "\n",
    "### Null Hypothesis:\n",
    "\n",
    "The mean years at company of attrited employees was found to be greater than or equal to 4 years with a standard deviation of 5.96\n",
    "\n",
    "### Alternative Hypothesis:\n",
    "\n",
    "The mean years at company of attrited employees is less than 4 years\n",
    "To determine if this is true,a sample of 70 attrited employees was taken at random and their mean years at the comapny was found to be 4.44 years"
   ]
  },
  {
   "cell_type": "markdown",
   "metadata": {},
   "source": [
    "\n",
    "# Hypothesis 4\n",
    "\n",
    "### Null Hypothesis:\n",
    "\n",
    "The mean age of employees who have not attrited is found to be equal to 37 years with a standard devaition of 8.89\n",
    "\n",
    "### Alternative Hypothesis:\n",
    "\n",
    "The mean age of employees who have not attrited is not equal to 37 years\n",
    "In order to test this claim, a sample of 70 employees who have not attrited was taken at random and their mean age was found to be 36\n"
   ]
  },
  {
   "cell_type": "markdown",
   "metadata": {},
   "source": [
    "\n",
    "# Hypothesis 5\n",
    "\n",
    "### Null Hypothesis:\n",
    "\n",
    "Mean of total working years of attrited employees was found to less than or equal to 9 years with a standard deviation of 7.17\n",
    "\n",
    "### Alternative Hypothesis:\n",
    "\n",
    "Mean of total working years of attrited employees is greater than 10 years\n",
    "In order to test this claim, a sample of 70 employees who have attrited was taken at random and their mean working years was found to be 8\n"
   ]
  },
  {
   "cell_type": "markdown",
   "metadata": {},
   "source": [
    "\n",
    "# Hypothesis 6\n",
    "\n",
    "### Null Hypothesis:\n",
    "\n",
    "The average number of years spent by an attrited employee with current manager was found to be equal to 2.86 with a standard deviation of 3.14\n",
    "\n",
    "### Alternative Hypothesis:\n",
    "\n",
    "The average number of years spent by an attrited employee with current manager is not equal to 2\n",
    "In order to test this claim, a sample of 25 employees who have attrited was taken at random and their average number of years spent with current manager was found to be equal to 2.12\n",
    "\n"
   ]
  },
  {
   "cell_type": "markdown",
   "metadata": {},
   "source": [
    "\n",
    "# Hypothesis 7\n",
    "\n",
    "### Null Hypothesis:\n",
    "\n",
    "The average number of years spent by a non-attrited employee with current manager was found to be greater than or equal to 3 with a standard deviation of 3.59\n",
    "\n",
    "### Alternative Hypothesis:\n",
    "\n",
    "The average number of years spent by a non-attrited employee with current manager is less than 3\n",
    "In order to test this claim, a sample of 70 employees who have not attrited was taken at random and their average number of years spent with current manager was found to be equal to 3.80"
   ]
  },
  {
   "cell_type": "markdown",
   "metadata": {},
   "source": [
    "\n",
    "# Hypothesis 8\n",
    "\n",
    "### Null Hypothesis:\n",
    "\n",
    "The mean pecentage in salary hike of the attrited employees is greater than or equal to 15% with a standard deviation of 3.78\n",
    "\n",
    "### Alternative Hypothesis:\n",
    "\n",
    "The mean pecentage in salary hike of the attrited employees is less than 15\n",
    "In order to test this claim, a sample of 25 employees who have attrited was taken at random and mean pecentage in their salary hike was found to be equal to 16.01%"
   ]
  },
  {
   "cell_type": "markdown",
   "metadata": {},
   "source": [
    "# Hypothesis 9\n",
    "\n",
    "### Null Hypothesis:\n",
    "\n",
    "The mean salary of attrited employees who have worked in more than 4 companies is found to be Rs.58,000 with a standard deviation of 46344\n",
    "\n",
    "### Alternative Hypothesis:\n",
    "\n",
    "The mean salary of attrited employees who have worked in more than 4 companies is not equal to Rs.58,000\n",
    "In order to test this claim, a sample of 100 employees who have attrited and worked in more than 4 companies was taken at random and mean salary was found to be Rs 57,955"
   ]
  },
  {
   "cell_type": "markdown",
   "metadata": {},
   "source": [
    "\n",
    "# Hypothesis 10\n",
    "\n",
    "### Null Hypothesis:\n",
    "\n",
    "The mean pecentage in salary hike of the attrited employees who took training more than 3 times in the previous year is found to be greater than or equal to 16% with a standard deviation of 4.32\n",
    "\n",
    "### Alternative Hypothesis:\n",
    "\n",
    "The mean pecentage in salary hike of the attrited employees who took training more than 3 times in the previous year is found to be less than 16%\n",
    "In order to test this claim, a sample of 25 employees who have attrited and took training more than 3 times in the previous year was taken at random and their mean percentage in salary hike was found to be 17.28%"
   ]
  }
 ],
 "metadata": {
  "kernelspec": {
   "display_name": "Python 3",
   "language": "python",
   "name": "python3"
  },
  "language_info": {
   "codemirror_mode": {
    "name": "ipython",
    "version": 3
   },
   "file_extension": ".py",
   "mimetype": "text/x-python",
   "name": "python",
   "nbconvert_exporter": "python",
   "pygments_lexer": "ipython3",
   "version": "3.7.6"
  }
 },
 "nbformat": 4,
 "nbformat_minor": 4
}
