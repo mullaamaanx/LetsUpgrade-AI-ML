{
 "cells": [
  {
   "cell_type": "markdown",
   "metadata": {},
   "source": [
    "# ***DAY 6 Assignment***"
   ]
  },
  {
   "cell_type": "markdown",
   "metadata": {},
   "source": [
    "# Question 1 \n",
    "> #### >Assuming that we have some email addresses in the \"username@companyname.com\" format, please write programto print the company name of a given email address. Both user names and company names are composed of letters only."
   ]
  },
  {
   "cell_type": "code",
   "execution_count": 1,
   "metadata": {},
   "outputs": [
    {
     "name": "stdout",
     "output_type": "stream",
     "text": [
      "Enter your email here in the format: 'username@companyname.com': amaan@gmail.com\n",
      "Gmail\n"
     ]
    }
   ],
   "source": [
    "a = input(\"Enter your email here in the format: 'username@companyname.com': \").split(\"@\")[1].split(\".\")[0]\n",
    "print(a.title())"
   ]
  },
  {
   "cell_type": "markdown",
   "metadata": {},
   "source": [
    "# Question 2 \n",
    "> #### >Write a program that accepts a comma-separated sequence of words as input and prints the words in a comma separated sequence after sorting them alphabetically."
   ]
  },
  {
   "cell_type": "markdown",
   "metadata": {},
   "source": [
    "without,hello,bag,world"
   ]
  },
  {
   "cell_type": "code",
   "execution_count": 2,
   "metadata": {},
   "outputs": [
    {
     "name": "stdout",
     "output_type": "stream",
     "text": [
      "Enter a comma-separated sequence of words: without,hello,bag,world\n",
      "\n",
      "Sorted words in a a comma-separated sequence: bag,hello,without,world\n"
     ]
    }
   ],
   "source": [
    "inp = sorted(input(\"Enter a comma-separated sequence of words: \").split(\",\"))\n",
    "print(\"\\nSorted words in a a comma-separated sequence:\", \",\".join(inp))"
   ]
  },
  {
   "cell_type": "markdown",
   "metadata": {},
   "source": [
    "# Question 4\n",
    "> #### >Given a list of n-1 numbers ranging from 1 to n, your task is to find the missing number. There are no duplicates."
   ]
  },
  {
   "cell_type": "code",
   "execution_count": 5,
   "metadata": {},
   "outputs": [
    {
     "name": "stdout",
     "output_type": "stream",
     "text": [
      "Enter a list with elements separated by a space: 1 5 6 3 4 \n",
      "\n",
      "\n",
      "The missing number is: 2\n"
     ]
    }
   ],
   "source": [
    "import functools\n",
    "from functools import reduce\n",
    "\n",
    "input_str = input(\"Enter a list with elements separated by a space: \").split()\n",
    "print(\"\\n\")\n",
    "\n",
    "user_list = list(map(int, input_str))\n",
    "\n",
    "n = max(user_list)\n",
    "\n",
    "sum_n = n * (n + 1) / 2 #gives us the sum of first 'n' natural numbers\n",
    "sum_list = reduce(lambda a, b: a + b, user_list) #gives the sum of numbers in the given list\n",
    "\n",
    "missing_num = sum_n - sum_list\n",
    "print(\"The missing number is:\", int(missing_num))"
   ]
  },
  {
   "cell_type": "markdown",
   "metadata": {},
   "source": [
    "# Question 5\n",
    "> #### >With a given list L, write a program to print this list L after removing all duplicate values with original order reserved."
   ]
  },
  {
   "cell_type": "code",
   "execution_count": 9,
   "metadata": {},
   "outputs": [
    {
     "name": "stdout",
     "output_type": "stream",
     "text": [
      "Enter a list with elements separated by a space: 12 24 35 24 88 120 155 88 120 155\n",
      "Sorted list: 12 24 35 88 120 155\n"
     ]
    }
   ],
   "source": [
    "input_list = input(\"Enter a list with elements separated by a space: \").split()\n",
    "user_list1 = list(dict.fromkeys(input_list))\n",
    "print(\"Sorted list:\", *user_list1)"
   ]
  },
  {
   "cell_type": "code",
   "execution_count": null,
   "metadata": {},
   "outputs": [],
   "source": []
  }
 ],
 "metadata": {
  "kernelspec": {
   "display_name": "Python 3",
   "language": "python",
   "name": "python3"
  },
  "language_info": {
   "codemirror_mode": {
    "name": "ipython",
    "version": 3
   },
   "file_extension": ".py",
   "mimetype": "text/x-python",
   "name": "python",
   "nbconvert_exporter": "python",
   "pygments_lexer": "ipython3",
   "version": "3.7.6"
  }
 },
 "nbformat": 4,
 "nbformat_minor": 4
}
