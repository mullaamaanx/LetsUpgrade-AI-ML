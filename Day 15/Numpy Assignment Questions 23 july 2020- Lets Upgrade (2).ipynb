{
 "cells": [
  {
   "cell_type": "markdown",
   "metadata": {},
   "source": [
    "# Day 14&15"
   ]
  },
  {
   "cell_type": "markdown",
   "metadata": {},
   "source": [
    "# 1. Create a 3x3x3 array with random values "
   ]
  },
  {
   "cell_type": "code",
   "execution_count": 6,
   "metadata": {},
   "outputs": [
    {
     "name": "stdout",
     "output_type": "stream",
     "text": [
      "[[[20  1  8]\n",
      "  [ 6 23  3]\n",
      "  [26 28  8]]\n",
      "\n",
      " [[ 5  3 27]\n",
      "  [15 21 19]\n",
      "  [19 18 20]]\n",
      "\n",
      " [[27 15 10]\n",
      "  [22  2 12]\n",
      "  [26 19  4]]]\n"
     ]
    }
   ],
   "source": [
    "import numpy as np\n",
    "import random\n",
    "arr=np.random.randint(30,size=(3,3,3))\n",
    "print(arr)"
   ]
  },
  {
   "cell_type": "markdown",
   "metadata": {},
   "source": [
    "# 2.Create a 5x5 matrix with values 1,2,3,4 just below the diagonal"
   ]
  },
  {
   "cell_type": "code",
   "execution_count": 5,
   "metadata": {},
   "outputs": [
    {
     "data": {
      "text/plain": [
       "array([[0, 0, 0, 0, 0],\n",
       "       [1, 0, 0, 0, 0],\n",
       "       [0, 2, 0, 0, 0],\n",
       "       [0, 0, 3, 0, 0],\n",
       "       [0, 0, 0, 4, 0]])"
      ]
     },
     "execution_count": 5,
     "metadata": {},
     "output_type": "execute_result"
    }
   ],
   "source": [
    "import numpy as np\n",
    "array=np.zeros((5,5))\n",
    "np.diag([1,2,3,4],-1)"
   ]
  },
  {
   "cell_type": "markdown",
   "metadata": {},
   "source": [
    "# 3.Create a 8x8 matrix and fill it with a checkerboard pattern"
   ]
  },
  {
   "cell_type": "code",
   "execution_count": 6,
   "metadata": {},
   "outputs": [
    {
     "name": "stdout",
     "output_type": "stream",
     "text": [
      "Checkboard pattern-\n",
      "[[0. 1. 0. 1. 0. 1. 0. 1.]\n",
      " [1. 0. 1. 0. 1. 0. 1. 0.]\n",
      " [0. 1. 0. 1. 0. 1. 0. 1.]\n",
      " [1. 0. 1. 0. 1. 0. 1. 0.]\n",
      " [0. 1. 0. 1. 0. 1. 0. 1.]\n",
      " [1. 0. 1. 0. 1. 0. 1. 0.]\n",
      " [0. 1. 0. 1. 0. 1. 0. 1.]\n",
      " [1. 0. 1. 0. 1. 0. 1. 0.]]\n"
     ]
    }
   ],
   "source": [
    "import numpy as np\n",
    "b=np.zeros((8,8))\n",
    "b[1::2,::2]=1\n",
    "b[::2,1::2]=1\n",
    "print(\"Checkboard pattern-\")\n",
    "print(b)\n"
   ]
  },
  {
   "cell_type": "markdown",
   "metadata": {},
   "source": [
    "# 4. Normalize a 5x5 random matrix"
   ]
  },
  {
   "cell_type": "code",
   "execution_count": 18,
   "metadata": {},
   "outputs": [
    {
     "name": "stdout",
     "output_type": "stream",
     "text": [
      "Matrix\n",
      "[[0.6495752  0.71402844 0.36118232 0.35573167 0.1944431 ]\n",
      " [0.47455854 0.08094733 0.29515613 0.18653662 0.13050015]\n",
      " [0.65446355 0.0944884  0.57730627 0.73614395 0.53192611]\n",
      " [0.82325409 0.98867359 0.15593289 0.15436579 0.3367303 ]\n",
      " [0.42771214 0.68465208 0.85557818 0.4094525  0.22819112]]\n",
      "Normalized Matrix-\n",
      "[[0.67200112 0.47236425 0.         0.12135566 0.41088304]\n",
      " [0.726589   0.65352808 0.9890505  0.71041057 1.        ]\n",
      " [0.25150947 0.9006425  0.1497638  0.26758273 0.09990485]\n",
      " [0.85590388 0.77330515 0.66360037 0.84986923 0.73212798]\n",
      " [0.88725843 0.71843394 0.08482465 0.80860381 0.25768923]]\n"
     ]
    }
   ],
   "source": [
    "import numpy as np\n",
    "import random\n",
    "array1 = np.random.rand(5,5)\n",
    "print(\"Matrix\")\n",
    "print(array1)\n",
    "normalized_matrix = (array1 - np.min(array1))/np.ptp(array1)\n",
    "print(\"Normalized Matrix-\")\n",
    "print(normalized)"
   ]
  },
  {
   "cell_type": "markdown",
   "metadata": {},
   "source": [
    "# 5.  How to find common values between two arrays?"
   ]
  },
  {
   "cell_type": "code",
   "execution_count": 27,
   "metadata": {},
   "outputs": [
    {
     "name": "stdout",
     "output_type": "stream",
     "text": [
      "Array 1- [5, 6, 7, 8, 9]\n",
      "Array 2- [1, 2, 3, 6, 7]\n",
      "Common values between Array1 and Array2-\n",
      "[6 7]\n"
     ]
    }
   ],
   "source": [
    "import numpy as np\n",
    "array1=[5,6,7,8,9]\n",
    "print(\"Array 1-\", array1)\n",
    "array2=[1,2,3,6,7]\n",
    "print(\"Array 2-\", array2)\n",
    "print(\"Common values between Array1 and Array2-\")\n",
    "print(np.intersect1d(array1, array2))\n"
   ]
  },
  {
   "cell_type": "markdown",
   "metadata": {},
   "source": [
    "# 6.How to get the dates of yesterday, today and tomorrow?"
   ]
  },
  {
   "cell_type": "code",
   "execution_count": 28,
   "metadata": {},
   "outputs": [
    {
     "name": "stdout",
     "output_type": "stream",
     "text": [
      "Yestraday:  2020-07-29\n",
      "Today:  2020-07-30\n",
      "Tomorrow:  2020-07-31\n"
     ]
    }
   ],
   "source": [
    "import numpy as np\n",
    "Yesterday = np.datetime64('today', 'D') - np.timedelta64(1, 'D')\n",
    "print(\"Yestraday: \",yesterday)\n",
    "today     = np.datetime64('today', 'D')\n",
    "print(\"Today: \",today)\n",
    "tomorrow  = np.datetime64('today', 'D') + np.timedelta64(1, 'D')\n",
    "print(\"Tomorrow: \",tomorrow)"
   ]
  },
  {
   "cell_type": "markdown",
   "metadata": {},
   "source": [
    "# 7. Consider two random array A and B, check if they are equal"
   ]
  },
  {
   "cell_type": "code",
   "execution_count": 17,
   "metadata": {},
   "outputs": [
    {
     "name": "stdout",
     "output_type": "stream",
     "text": [
      "First array: [1 2 3 4 5]\n",
      "Second array: [1 2 3 4 4]\n",
      "Arrays equal or not-\n",
      "False\n"
     ]
    }
   ],
   "source": [
    "import numpy as np\n",
    "A = np.array([1,2,3,4,5])\n",
    "print(\"First array:\", A)\n",
    "B = np.array([1,2,3,4,4])\n",
    "print(\"Second array:\", B)\n",
    "print(\"Arrays equal or not-\")\n",
    "array1 = np.allclose(A, B)\n",
    "print(array1)"
   ]
  },
  {
   "cell_type": "markdown",
   "metadata": {},
   "source": [
    "# 8.Create random vector of size 10 and replace the maximum value by 0 "
   ]
  },
  {
   "cell_type": "code",
   "execution_count": 35,
   "metadata": {},
   "outputs": [
    {
     "name": "stdout",
     "output_type": "stream",
     "text": [
      "Vector [0 0 0 7 3 5 2 7 5 3]\n",
      "Replacing maximum value by 0- \n",
      "[0 0 0 0 3 5 2 7 5 3]\n"
     ]
    }
   ],
   "source": [
    "import numpy as np\n",
    "Vector=np.random.randint(10,size=(10))\n",
    "print(\"Vector\", Vector)\n",
    "Vector[Vector.argmax()] = 0\n",
    "print(\"Replacing maximum value by 0- \")\n",
    "print(Vector)\n"
   ]
  },
  {
   "cell_type": "markdown",
   "metadata": {},
   "source": [
    "# 9. How to print all the values of an array?"
   ]
  },
  {
   "cell_type": "code",
   "execution_count": 45,
   "metadata": {},
   "outputs": [
    {
     "name": "stdout",
     "output_type": "stream",
     "text": [
      "[ 0  1  2  3  4  5  6  7  8  9 10 11 12 13 14 15 16 17 18 19 20 21 22 23\n",
      " 24 25 26 27 28 29 30 31 32 33 34 35 36 37 38 39 40 41 42 43 44 45 46 47\n",
      " 48 49 50 51 52 53 54 55 56 57 58 59 60 61 62 63 64 65 66 67 68 69]\n"
     ]
    }
   ],
   "source": [
    "import numpy as np\n",
    "Array=np.arange(70)\n",
    "np.set_printoptions(threshold=np.inf)\n",
    "print(Array)"
   ]
  },
  {
   "cell_type": "markdown",
   "metadata": {},
   "source": [
    "# 10.Subtract the mean of each row of a matrix"
   ]
  },
  {
   "cell_type": "code",
   "execution_count": 58,
   "metadata": {},
   "outputs": [
    {
     "name": "stdout",
     "output_type": "stream",
     "text": [
      "Matrix-\n",
      "[[ 0  1  2  3  4]\n",
      " [ 5  6  7  8  9]\n",
      " [10 11 12 13 14]\n",
      " [15 16 17 18 19]\n",
      " [20 21 22 23 24]]\n",
      "Subtracting the mean of each row of the given matrix-\n",
      "[[-2. -1.  0.  1.  2.]\n",
      " [-2. -1.  0.  1.  2.]\n",
      " [-2. -1.  0.  1.  2.]\n",
      " [-2. -1.  0.  1.  2.]\n",
      " [-2. -1.  0.  1.  2.]]\n"
     ]
    }
   ],
   "source": [
    "import numpy as np\n",
    "print(\"Matrix-\")\n",
    "array = np.arange(25).reshape(5,5)\n",
    "print(array)\n",
    "print(\"Subtracting the mean of each row of the given matrix-\")\n",
    "Result = array - array.mean(axis=1, keepdims=True)\n",
    "print(Result)"
   ]
  },
  {
   "cell_type": "markdown",
   "metadata": {},
   "source": [
    "# 11.Consider a given vector, how to add 1 to each element indexed by a second vector (be careful with repeated indices)? "
   ]
  },
  {
   "cell_type": "code",
   "execution_count": 74,
   "metadata": {},
   "outputs": [
    {
     "name": "stdout",
     "output_type": "stream",
     "text": [
      "Vector- [5 6 4 6 5 2 5 5 5]\n",
      "Vector 2- [2 3 0 4 4 1 3 4 3]\n",
      "Indexing vector: [0 1 2 3 3 3 4 4 4]\n",
      "Result: [5 6 4 7 6 4 9 5 6]\n"
     ]
    }
   ],
   "source": [
    "Vector=np.random.randint(1,8,9)\n",
    "print(\"Vector-\", Vector)\n",
    "Vector2=np.random.randint(Vector)\n",
    "print(\"Vector 2-\", Vector2)\n",
    "Vector2.sort()\n",
    "a=[]\n",
    "for i in Vector2:\n",
    "    if i not in a:\n",
    "        a.append(i)\n",
    "for j in Vector:\n",
    "    Vector[j] += 1\n",
    "\n",
    "print(\"Indexing vector:\", Vector2)\n",
    "print(\"Result:\",Vector)"
   ]
  },
  {
   "cell_type": "markdown",
   "metadata": {},
   "source": [
    "# 12.How to get the diagonal of a dot product?"
   ]
  },
  {
   "cell_type": "code",
   "execution_count": 77,
   "metadata": {},
   "outputs": [
    {
     "data": {
      "text/plain": [
       "array([ 7, 22])"
      ]
     },
     "execution_count": 77,
     "metadata": {},
     "output_type": "execute_result"
    }
   ],
   "source": [
    "X = [[1,2],[3,4]]\n",
    "Y = [[1,2],[3,4]]\n",
    "Z = np.diag(np.dot(X,Y))\n",
    "Z"
   ]
  },
  {
   "cell_type": "markdown",
   "metadata": {},
   "source": [
    "# 13.How to find the most frequent value in an array?"
   ]
  },
  {
   "cell_type": "code",
   "execution_count": 93,
   "metadata": {},
   "outputs": [
    {
     "name": "stdout",
     "output_type": "stream",
     "text": [
      "Array- [1 5 9 7 3 5 0 3 8 8 2 2 5 8 0]\n",
      "Most frequent value in the Array-\n",
      "5\n"
     ]
    }
   ],
   "source": [
    "import numpy as np\n",
    "Array= np.random.randint(0,10,15)\n",
    "print(\"Array-\", Array)\n",
    "print(\"Most frequent value in the Array-\")\n",
    "print(np.bincount(Array).argmax())"
   ]
  },
  {
   "cell_type": "markdown",
   "metadata": {},
   "source": [
    "# 14.How to get the n largest values of an array"
   ]
  },
  {
   "cell_type": "code",
   "execution_count": 99,
   "metadata": {},
   "outputs": [
    {
     "name": "stdout",
     "output_type": "stream",
     "text": [
      "Array-\n",
      "[ 0  1  2  3  4  5  6  7  8  9 10 11 12 13 14 15 16 17 18 19]\n",
      "Largest value of the Array is-\n",
      "[19]\n"
     ]
    }
   ],
   "source": [
    "import numpy as np\n",
    "Array = np.arange(20)\n",
    "print(\"Array-\")\n",
    "print(Array)\n",
    "n = 1\n",
    "print(\"Largest value of the Array is-\")\n",
    "result=Array[np.argsort(Array)[-n:]]\n",
    "print(result)"
   ]
  },
  {
   "cell_type": "markdown",
   "metadata": {},
   "source": [
    "# 15.How to create a record array from a regular array?"
   ]
  },
  {
   "cell_type": "code",
   "execution_count": 105,
   "metadata": {},
   "outputs": [
    {
     "name": "stdout",
     "output_type": "stream",
     "text": [
      "('1', 'One')\n",
      "('2', 'Two')\n",
      "('3', 'Three')\n"
     ]
    }
   ],
   "source": [
    "import numpy as np\n",
    "Array1=np.array(['1','2','3','4'])\n",
    "Array2=np.array(['One','Two','Three','Four'])\n",
    "result= np.core.records.fromarrays([Array1, Array2])\n",
    "print(result[0])\n",
    "print(result[1])\n",
    "print(result[2])"
   ]
  }
 ],
 "metadata": {
  "kernelspec": {
   "display_name": "Python 3",
   "language": "python",
   "name": "python3"
  },
  "language_info": {
   "codemirror_mode": {
    "name": "ipython",
    "version": 3
   },
   "file_extension": ".py",
   "mimetype": "text/x-python",
   "name": "python",
   "nbconvert_exporter": "python",
   "pygments_lexer": "ipython3",
   "version": "3.8.3"
  }
 },
 "nbformat": 4,
 "nbformat_minor": 2
}
