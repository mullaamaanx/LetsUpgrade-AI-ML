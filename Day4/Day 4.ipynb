{
 "cells": [
  {
   "cell_type": "markdown",
   "metadata": {},
   "source": [
    "# ___Day 4 Assignment.___ "
   ]
  },
  {
   "cell_type": "markdown",
   "metadata": {},
   "source": [
    "## ___Question 1___"
   ]
  },
  {
   "cell_type": "markdown",
   "metadata": {},
   "source": [
    "### Research on whether addition, subtraction, multiplication, division, floor division and modulo operations be performed on complex numbers. Based on your study, implement a Python program to demonstrate these operations.\n"
   ]
  },
  {
   "cell_type": "code",
   "execution_count": 13,
   "metadata": {},
   "outputs": [
    {
     "name": "stdout",
     "output_type": "stream",
     "text": [
      "\n",
      "Addition of the comlpex numbers, 5+6j and 7+6j is (12+12j)\n",
      "\n",
      "Subtraction of the comlpex numbers, 5+6j and 7+6j is (-2+0j)\n",
      "\n",
      "Multiplication of the comlpex numbers, 5+6j and 7+6j is (-1+72j)\n",
      "\n",
      "Division of the comlpex numbers, 5+6j and 7+6j is (0.8352941176470589+0.14117647058823532j)\n",
      "\n",
      "Floor division and modulo division of complex numbers is not possible\n"
     ]
    }
   ],
   "source": [
    "num1 = 5+6j\n",
    "num2 = 7+6j\n",
    "\n",
    "#Addition of complex number:\n",
    "print(\"\\nAddition of the comlpex numbers, 5+6j and 7+6j is\", num1 + num2)\n",
    "#Subtraction of complex numbers \n",
    "print(\"\\nSubtraction of the comlpex numbers, 5+6j and 7+6j is\", num1 - num2)\n",
    "#Multiplication of complex numbers \n",
    "print(\"\\nMultiplication of the comlpex numbers, 5+6j and 7+6j is\", num1 * num2)\n",
    "#Division of complex numbers\n",
    "print(\"\\nDivision of the comlpex numbers, 5+6j and 7+6j is\", num1 / num2)\n",
    "print(\"\\nFloor division and modulo division of complex numbers is not possible\")"
   ]
  },
  {
   "cell_type": "markdown",
   "metadata": {},
   "source": [
    "## ___Question 2___"
   ]
  },
  {
   "cell_type": "markdown",
   "metadata": {},
   "source": [
    "### Research on range() functions and its parameters. Create a markdown cell and write in your own words (no copy-paste from google please) what you understand about it. Implement a small program of your choice on the same.\n"
   ]
  },
  {
   "cell_type": "markdown",
   "metadata": {},
   "source": [
    "## ***The Range() function in python is a built in fucntion that generates integer numbers from the starting integer to the ending integer.***\n",
    "\n",
    "1. A start argument is a starting number of the sequence.\n",
    "2. A stop argument is an upper limit. The stop argument integer is not included in the code.\n",
    "3. The range funtion can be represented as -\n",
    "            1.range(stop_value) - considers the starting point as zero.\n",
    "            2.range(start_value, stop_value) - generates the sequence based on the start and stop value.\n",
    "            3.range(start_value, stop_value, step_size) - generates the sequence by incrementing the start value until it                     reaches the stop value using the step size."
   ]
  },
  {
   "cell_type": "code",
   "execution_count": 18,
   "metadata": {},
   "outputs": [
    {
     "name": "stdout",
     "output_type": "stream",
     "text": [
      "0\n",
      "1\n",
      "2\n",
      "3\n",
      "4\n",
      "5\n",
      "6\n",
      "7\n",
      "8\n",
      "9\n"
     ]
    }
   ],
   "source": [
    "#1\n",
    "\n",
    "a = range(10)\n",
    "\n",
    "for i in a:\n",
    "    print(i)"
   ]
  },
  {
   "cell_type": "code",
   "execution_count": 19,
   "metadata": {},
   "outputs": [
    {
     "name": "stdout",
     "output_type": "stream",
     "text": [
      "1\n",
      "2\n",
      "3\n",
      "4\n"
     ]
    }
   ],
   "source": [
    "#2\n",
    "\n",
    "a = range (1,5)\n",
    "\n",
    "for i in a:\n",
    "    print(i)"
   ]
  },
  {
   "cell_type": "code",
   "execution_count": 20,
   "metadata": {},
   "outputs": [
    {
     "name": "stdout",
     "output_type": "stream",
     "text": [
      "2\n",
      "5\n",
      "8\n",
      "11\n",
      "14\n",
      "17\n"
     ]
    }
   ],
   "source": [
    "#3\n",
    "\n",
    "a = range (2,20,3)\n",
    "\n",
    "for i in a:\n",
    "    print(i)"
   ]
  },
  {
   "cell_type": "markdown",
   "metadata": {},
   "source": [
    "## ___Question 3___"
   ]
  },
  {
   "cell_type": "markdown",
   "metadata": {},
   "source": [
    "### Consider two numbers. Perform their subtraction and if the result of subtraction is greater than 25, print their multiplication result else print their division result.\n"
   ]
  },
  {
   "cell_type": "code",
   "execution_count": 25,
   "metadata": {},
   "outputs": [
    {
     "name": "stdout",
     "output_type": "stream",
     "text": [
      "num1= 10\n",
      "num2= 10\n",
      "1000\n"
     ]
    }
   ],
   "source": [
    "a = 100\n",
    "b = 10\n",
    "print(\"num1=\", b)\n",
    "print(\"num2=\", b)\n",
    "if (a-b) > 25:\n",
    "    print(a*b)\n",
    "else:\n",
    "    print(a/b)"
   ]
  },
  {
   "cell_type": "markdown",
   "metadata": {},
   "source": [
    "## ___Question 4___"
   ]
  },
  {
   "cell_type": "markdown",
   "metadata": {},
   "source": [
    "### __Consider a list of 10 elements of integer values. If the number in the list is divisible by 2, print the result as \"square of that number minus 2\".__\n"
   ]
  },
  {
   "cell_type": "code",
   "execution_count": 32,
   "metadata": {},
   "outputs": [
    {
     "name": "stdout",
     "output_type": "stream",
     "text": [
      "2\n",
      "14\n",
      "34\n",
      "62\n",
      "98\n"
     ]
    }
   ],
   "source": [
    "l=[1,2,3,4,5,6,7,8,9,10]\n",
    "for i in l:\n",
    "    if i%2==0:\n",
    "        print (i**2-2)"
   ]
  },
  {
   "cell_type": "markdown",
   "metadata": {},
   "source": [
    "## ___Question 5___"
   ]
  },
  {
   "cell_type": "markdown",
   "metadata": {},
   "source": [
    "### Consider a list of 10 elements. Print all the elements in the list which are greater than 7 when that number is divided 2."
   ]
  },
  {
   "cell_type": "code",
   "execution_count": 28,
   "metadata": {},
   "outputs": [
    {
     "name": "stdout",
     "output_type": "stream",
     "text": [
      "20\n",
      "30\n",
      "40\n",
      "50\n",
      "60\n",
      "70\n",
      "80\n",
      "90\n",
      "80\n",
      "100\n"
     ]
    }
   ],
   "source": [
    "l=[10,20,30,40,50,60,70,80,90,80,100]\n",
    "for i in l:\n",
    "    if i/2>7:\n",
    "        print(i)"
   ]
  },
  {
   "cell_type": "code",
   "execution_count": null,
   "metadata": {},
   "outputs": [],
   "source": []
  }
 ],
 "metadata": {
  "kernelspec": {
   "display_name": "Python 3",
   "language": "python",
   "name": "python3"
  },
  "language_info": {
   "codemirror_mode": {
    "name": "ipython",
    "version": 3
   },
   "file_extension": ".py",
   "mimetype": "text/x-python",
   "name": "python",
   "nbconvert_exporter": "python",
   "pygments_lexer": "ipython3",
   "version": "3.7.6"
  }
 },
 "nbformat": 4,
 "nbformat_minor": 4
}
