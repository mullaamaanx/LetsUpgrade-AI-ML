{
 "cells": [
  {
   "cell_type": "markdown",
   "metadata": {},
   "source": [
    "# *Day 3 Assignment*"
   ]
  },
  {
   "cell_type": "markdown",
   "metadata": {},
   "source": [
    "##  ___Question 1___"
   ]
  },
  {
   "cell_type": "markdown",
   "metadata": {},
   "source": [
    "### Write a program to subtract two complex numbers in Python."
   ]
  },
  {
   "cell_type": "code",
   "execution_count": 18,
   "metadata": {},
   "outputs": [
    {
     "name": "stdout",
     "output_type": "stream",
     "text": [
      "(6+12j) - (2+6j) = (4+6j)\n",
      "(4+6j) is the subtraction of the two complex numbers.\n"
     ]
    }
   ],
   "source": [
    "cn1 = 6+12j\n",
    "cn2 = 2+6j\n",
    "print(cn1,\"-\",cn2,\"=\",cn1-cn2)\n",
    "print(cn1-cn2, \"is the subtraction of the two complex numbers.\")"
   ]
  },
  {
   "cell_type": "markdown",
   "metadata": {},
   "source": [
    "## ***Question 2***"
   ]
  },
  {
   "cell_type": "markdown",
   "metadata": {},
   "source": [
    "### Write a program to find the fourth root of a number.\n"
   ]
  },
  {
   "cell_type": "code",
   "execution_count": 7,
   "metadata": {},
   "outputs": [
    {
     "name": "stdout",
     "output_type": "stream",
     "text": [
      "8.0 is the fourth root of 4096\n"
     ]
    }
   ],
   "source": [
    "n = 4096\n",
    "print(n**(1/4) , \"is the fourth root of\" , n)"
   ]
  },
  {
   "cell_type": "markdown",
   "metadata": {},
   "source": [
    "## ___Question 3___"
   ]
  },
  {
   "cell_type": "markdown",
   "metadata": {},
   "source": [
    "### Write a program to swap two numbers in Python with the help of a temporary variable"
   ]
  },
  {
   "cell_type": "code",
   "execution_count": 35,
   "metadata": {},
   "outputs": [
    {
     "name": "stdout",
     "output_type": "stream",
     "text": [
      "a= 6\n",
      "b= 10\n",
      "After swapping a= 10\n",
      "After swapping b= 6\n"
     ]
    }
   ],
   "source": [
    "a = 6 \n",
    "b = 10 \n",
    "print(\"a=\",a)\n",
    "print(\"b=\",b)\n",
    "temp = a\n",
    "a = b\n",
    "b = temp\n",
    "print (\"After swapping a=\",a)\n",
    "print (\"After swapping b=\",b)"
   ]
  },
  {
   "cell_type": "markdown",
   "metadata": {},
   "source": [
    "## ___Question 4___"
   ]
  },
  {
   "cell_type": "markdown",
   "metadata": {},
   "source": [
    "### Write a program to swap two numbers in Python without using a temporary variable."
   ]
  },
  {
   "cell_type": "code",
   "execution_count": 34,
   "metadata": {},
   "outputs": [
    {
     "name": "stdout",
     "output_type": "stream",
     "text": [
      "a= 15\n",
      "b= 20\n",
      "After swapping a= 20\n",
      "After swapping b= 15\n"
     ]
    }
   ],
   "source": [
    "a = 15\n",
    "b= 20\n",
    "print(\"a=\",a)\n",
    "print(\"b=\",b)\n",
    "a,b = b,a\n",
    "print(\"After swapping a=\", a)\n",
    "print(\"After swapping b=\",b)"
   ]
  },
  {
   "cell_type": "markdown",
   "metadata": {},
   "source": [
    "## ***Question 5***\n"
   ]
  },
  {
   "cell_type": "markdown",
   "metadata": {},
   "source": [
    "### Write a program to convert fahrenheit to kelvin and celsius both."
   ]
  },
  {
   "cell_type": "code",
   "execution_count": 1,
   "metadata": {},
   "outputs": [
    {
     "name": "stdout",
     "output_type": "stream",
     "text": [
      "Enter Temperature in Fahrenheit:54\n",
      "Temperature in Celcius= 12.222222222222221\n",
      "Temperature in Kelvin= 285.3722222222222\n"
     ]
    }
   ],
   "source": [
    "a = int(input(\"Enter Temperature in Fahrenheit:\"))\n",
    "print(\"Temperature in Celcius=\",(a-32)*5/9)\n",
    "print(\"Temperature in Kelvin=\",(a-32)*5/9 +273.15)"
   ]
  },
  {
   "cell_type": "markdown",
   "metadata": {},
   "source": [
    "## ___Question 6___"
   ]
  },
  {
   "cell_type": "markdown",
   "metadata": {},
   "source": [
    "### Write a program to demonstrate all the available data types in Python. Hint: Use type() function."
   ]
  },
  {
   "cell_type": "code",
   "execution_count": 8,
   "metadata": {},
   "outputs": [
    {
     "name": "stdout",
     "output_type": "stream",
     "text": [
      "<class 'str'>\n",
      "<class 'int'>\n",
      "<class 'float'>\n",
      "<class 'complex'>\n"
     ]
    }
   ],
   "source": [
    "name = \"Amaan\"\n",
    "age = 19\n",
    "weight = 60 #in kg\n",
    "complx = 45+3j\n",
    "print(type(name))\n",
    "print(type(age))\n",
    "print(type(weight))\n",
    "print(type(complx))"
   ]
  },
  {
   "cell_type": "markdown",
   "metadata": {},
   "source": [
    "## ___Question 7___"
   ]
  },
  {
   "cell_type": "markdown",
   "metadata": {},
   "source": [
    "### Create a Markdown cell in jupyter and list the steps discussed in the session by Dr. Darshan Ingle sir to create Github profile and upload Githubs Assignment link."
   ]
  },
  {
   "cell_type": "markdown",
   "metadata": {},
   "source": [
    "## ***Open GitHub***\n",
    "\n",
    "## ___1. Creating a repository___\n",
    "\n",
    "### Step 1 - Click on \"Sign Up\"\n",
    "### Step 2 - Complete the formalities\n",
    "### Step 3 - Create a new folder for the day (Example: Day 03)\n",
    "### Step 4 - Open a Jupyter Notebook from that folder</n>\n",
    "### Step 5 - Go to GitHub and click on \"Create a new repository\"\n",
    "### Step 6 - Name the repository \"LetsUpgrade AI/ML\"\n",
    "### Step 7 - Add the description \"Assignments\"\n",
    "### Step 8 - Keep the remaining settings as they are and make sure to keep the repository public\n",
    "### Step 9 - Scroll down and click on \"Create Repository\"\n",
    "\n",
    "## ___2. Uploading a File to the repository___\n",
    "\n",
    "### Step 1 - Go to the folder which you wish to uplaod (Day03)\n",
    "### Step 2 - Click and drag it to the GitHub window and drop it in the labelled area\n",
    "### Step 3 - The file/folder gets uploaded as soon as you drop it\n",
    "### Step 4 - Once it is uploaded click on \"Commit Changes\"\n",
    "\n",
    "## ___3. Sharing and Submitting the Assignment's Link___\n",
    "### Step 1 - Go to home page\n",
    "### Step 2 - Click on repositories and Open the repository you created\n",
    "### Step 3 - After opening the repository open the folder\n",
    "### Step 4 - Copy the URL from the browser\n",
    "### Step 5 - Paste the link in the Assignment Submission Form provided by the LetsUpgrade Team\n",
    "### Step 6 - Confirm whether the URL is visible to everyone by opening the URL in an incognito window\n",
    "### Steo 7 - Make sure you have received a confirmation email"
   ]
  },
  {
   "cell_type": "code",
   "execution_count": null,
   "metadata": {},
   "outputs": [],
   "source": []
  }
 ],
 "metadata": {
  "kernelspec": {
   "display_name": "Python 3",
   "language": "python",
   "name": "python3"
  },
  "language_info": {
   "codemirror_mode": {
    "name": "ipython",
    "version": 3
   },
   "file_extension": ".py",
   "mimetype": "text/x-python",
   "name": "python",
   "nbconvert_exporter": "python",
   "pygments_lexer": "ipython3",
   "version": "3.7.6"
  }
 },
 "nbformat": 4,
 "nbformat_minor": 4
}
