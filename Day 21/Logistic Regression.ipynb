{
 "cells": [
  {
   "cell_type": "code",
   "execution_count": 2,
   "metadata": {},
   "outputs": [],
   "source": [
    "import statsmodels.api as sm\n",
    "import math as m"
   ]
  },
  {
   "cell_type": "code",
   "execution_count": 3,
   "metadata": {},
   "outputs": [],
   "source": [
    "import pandas as pd\n",
    "df=pd.read_excel('D:Lets Upgrade AI-ML/Assignments/Day 21/Bank_Personal_Loan_Modelling.xlsx', sheet_name=1)"
   ]
  },
  {
   "cell_type": "code",
   "execution_count": 4,
   "metadata": {},
   "outputs": [
    {
     "data": {
      "text/html": [
       "<div>\n",
       "<style scoped>\n",
       "    .dataframe tbody tr th:only-of-type {\n",
       "        vertical-align: middle;\n",
       "    }\n",
       "\n",
       "    .dataframe tbody tr th {\n",
       "        vertical-align: top;\n",
       "    }\n",
       "\n",
       "    .dataframe thead th {\n",
       "        text-align: right;\n",
       "    }\n",
       "</style>\n",
       "<table border=\"1\" class=\"dataframe\">\n",
       "  <thead>\n",
       "    <tr style=\"text-align: right;\">\n",
       "      <th></th>\n",
       "      <th>ID</th>\n",
       "      <th>Age</th>\n",
       "      <th>Experience</th>\n",
       "      <th>Income</th>\n",
       "      <th>ZIP Code</th>\n",
       "      <th>Family</th>\n",
       "      <th>CCAvg</th>\n",
       "      <th>Education</th>\n",
       "      <th>Mortgage</th>\n",
       "      <th>Personal Loan</th>\n",
       "      <th>Securities Account</th>\n",
       "      <th>CD Account</th>\n",
       "      <th>Online</th>\n",
       "      <th>CreditCard</th>\n",
       "    </tr>\n",
       "  </thead>\n",
       "  <tbody>\n",
       "    <tr>\n",
       "      <th>0</th>\n",
       "      <td>1</td>\n",
       "      <td>25</td>\n",
       "      <td>1</td>\n",
       "      <td>49</td>\n",
       "      <td>91107</td>\n",
       "      <td>4</td>\n",
       "      <td>1.6</td>\n",
       "      <td>1</td>\n",
       "      <td>0</td>\n",
       "      <td>0</td>\n",
       "      <td>1</td>\n",
       "      <td>0</td>\n",
       "      <td>0</td>\n",
       "      <td>0</td>\n",
       "    </tr>\n",
       "    <tr>\n",
       "      <th>1</th>\n",
       "      <td>2</td>\n",
       "      <td>45</td>\n",
       "      <td>19</td>\n",
       "      <td>34</td>\n",
       "      <td>90089</td>\n",
       "      <td>3</td>\n",
       "      <td>1.5</td>\n",
       "      <td>1</td>\n",
       "      <td>0</td>\n",
       "      <td>0</td>\n",
       "      <td>1</td>\n",
       "      <td>0</td>\n",
       "      <td>0</td>\n",
       "      <td>0</td>\n",
       "    </tr>\n",
       "    <tr>\n",
       "      <th>2</th>\n",
       "      <td>3</td>\n",
       "      <td>39</td>\n",
       "      <td>15</td>\n",
       "      <td>11</td>\n",
       "      <td>94720</td>\n",
       "      <td>1</td>\n",
       "      <td>1.0</td>\n",
       "      <td>1</td>\n",
       "      <td>0</td>\n",
       "      <td>0</td>\n",
       "      <td>0</td>\n",
       "      <td>0</td>\n",
       "      <td>0</td>\n",
       "      <td>0</td>\n",
       "    </tr>\n",
       "    <tr>\n",
       "      <th>3</th>\n",
       "      <td>4</td>\n",
       "      <td>35</td>\n",
       "      <td>9</td>\n",
       "      <td>100</td>\n",
       "      <td>94112</td>\n",
       "      <td>1</td>\n",
       "      <td>2.7</td>\n",
       "      <td>2</td>\n",
       "      <td>0</td>\n",
       "      <td>0</td>\n",
       "      <td>0</td>\n",
       "      <td>0</td>\n",
       "      <td>0</td>\n",
       "      <td>0</td>\n",
       "    </tr>\n",
       "    <tr>\n",
       "      <th>4</th>\n",
       "      <td>5</td>\n",
       "      <td>35</td>\n",
       "      <td>8</td>\n",
       "      <td>45</td>\n",
       "      <td>91330</td>\n",
       "      <td>4</td>\n",
       "      <td>1.0</td>\n",
       "      <td>2</td>\n",
       "      <td>0</td>\n",
       "      <td>0</td>\n",
       "      <td>0</td>\n",
       "      <td>0</td>\n",
       "      <td>0</td>\n",
       "      <td>1</td>\n",
       "    </tr>\n",
       "  </tbody>\n",
       "</table>\n",
       "</div>"
      ],
      "text/plain": [
       "   ID  Age  Experience  Income  ZIP Code  Family  CCAvg  Education  Mortgage  \\\n",
       "0   1   25           1      49     91107       4    1.6          1         0   \n",
       "1   2   45          19      34     90089       3    1.5          1         0   \n",
       "2   3   39          15      11     94720       1    1.0          1         0   \n",
       "3   4   35           9     100     94112       1    2.7          2         0   \n",
       "4   5   35           8      45     91330       4    1.0          2         0   \n",
       "\n",
       "   Personal Loan  Securities Account  CD Account  Online  CreditCard  \n",
       "0              0                   1           0       0           0  \n",
       "1              0                   1           0       0           0  \n",
       "2              0                   0           0       0           0  \n",
       "3              0                   0           0       0           0  \n",
       "4              0                   0           0       0           1  "
      ]
     },
     "execution_count": 4,
     "metadata": {},
     "output_type": "execute_result"
    }
   ],
   "source": [
    "df.head()"
   ]
  },
  {
   "cell_type": "code",
   "execution_count": 5,
   "metadata": {},
   "outputs": [
    {
     "data": {
      "text/plain": [
       "(5000, 12)"
      ]
     },
     "execution_count": 5,
     "metadata": {},
     "output_type": "execute_result"
    }
   ],
   "source": [
    "\n",
    "#Rows or columns can be removed using index label or column name using this method.\n",
    "df=df.drop(columns = ['ID', 'Family'] )\n",
    "df.drop_duplicates(inplace=True)\n",
    "df.shape\n"
   ]
  },
  {
   "cell_type": "code",
   "execution_count": 6,
   "metadata": {},
   "outputs": [],
   "source": [
    "X = df['Personal Loan']\n",
    "Y = df[['Age', 'Experience', 'Income', 'ZIP Code', 'CCAvg', 'Education', 'Mortgage', 'Securities Account', 'CD Account', 'Online', 'CreditCard']]"
   ]
  },
  {
   "cell_type": "code",
   "execution_count": 7,
   "metadata": {},
   "outputs": [],
   "source": [
    "Y1 = sm.add_constant(Y)\n",
    "Logistic=sm.Logit(X,Y1)"
   ]
  },
  {
   "cell_type": "code",
   "execution_count": 14,
   "metadata": {},
   "outputs": [
    {
     "name": "stdout",
     "output_type": "stream",
     "text": [
      "Optimization terminated successfully.\n",
      "         Current function value: 0.128720\n",
      "         Iterations 9\n"
     ]
    }
   ],
   "source": [
    "result = Logistic.fit()"
   ]
  },
  {
   "cell_type": "code",
   "execution_count": 15,
   "metadata": {},
   "outputs": [
    {
     "data": {
      "text/html": [
       "<table class=\"simpletable\">\n",
       "<caption>Logit Regression Results</caption>\n",
       "<tr>\n",
       "  <th>Dep. Variable:</th>     <td>Personal Loan</td>  <th>  No. Observations:  </th>  <td>  4987</td> \n",
       "</tr>\n",
       "<tr>\n",
       "  <th>Model:</th>                 <td>Logit</td>      <th>  Df Residuals:      </th>  <td>  4975</td> \n",
       "</tr>\n",
       "<tr>\n",
       "  <th>Method:</th>                 <td>MLE</td>       <th>  Df Model:          </th>  <td>    11</td> \n",
       "</tr>\n",
       "<tr>\n",
       "  <th>Date:</th>            <td>Wed, 02 Sep 2020</td> <th>  Pseudo R-squ.:     </th>  <td>0.5936</td> \n",
       "</tr>\n",
       "<tr>\n",
       "  <th>Time:</th>                <td>17:39:17</td>     <th>  Log-Likelihood:    </th> <td> -641.93</td>\n",
       "</tr>\n",
       "<tr>\n",
       "  <th>converged:</th>             <td>True</td>       <th>  LL-Null:           </th> <td> -1579.7</td>\n",
       "</tr>\n",
       "<tr>\n",
       "  <th>Covariance Type:</th>     <td>nonrobust</td>    <th>  LLR p-value:       </th>  <td> 0.000</td> \n",
       "</tr>\n",
       "</table>\n",
       "<table class=\"simpletable\">\n",
       "<tr>\n",
       "           <td></td>             <th>coef</th>     <th>std err</th>      <th>z</th>      <th>P>|z|</th>  <th>[0.025</th>    <th>0.975]</th>  \n",
       "</tr>\n",
       "<tr>\n",
       "  <th>const</th>              <td>  -12.1727</td> <td>    1.645</td> <td>   -7.399</td> <td> 0.000</td> <td>  -15.397</td> <td>   -8.948</td>\n",
       "</tr>\n",
       "<tr>\n",
       "  <th>Age</th>                <td>   -0.0541</td> <td>    0.061</td> <td>   -0.882</td> <td> 0.378</td> <td>   -0.174</td> <td>    0.066</td>\n",
       "</tr>\n",
       "<tr>\n",
       "  <th>Experience</th>         <td>    0.0642</td> <td>    0.061</td> <td>    1.054</td> <td> 0.292</td> <td>   -0.055</td> <td>    0.184</td>\n",
       "</tr>\n",
       "<tr>\n",
       "  <th>Income</th>             <td>    0.0545</td> <td>    0.003</td> <td>   20.822</td> <td> 0.000</td> <td>    0.049</td> <td>    0.060</td>\n",
       "</tr>\n",
       "<tr>\n",
       "  <th>Family</th>             <td>    0.6947</td> <td>    0.074</td> <td>    9.348</td> <td> 0.000</td> <td>    0.549</td> <td>    0.840</td>\n",
       "</tr>\n",
       "<tr>\n",
       "  <th>CCAvg</th>              <td>    0.1236</td> <td>    0.040</td> <td>    3.117</td> <td> 0.002</td> <td>    0.046</td> <td>    0.201</td>\n",
       "</tr>\n",
       "<tr>\n",
       "  <th>Education</th>          <td>    1.7363</td> <td>    0.115</td> <td>   15.091</td> <td> 0.000</td> <td>    1.511</td> <td>    1.962</td>\n",
       "</tr>\n",
       "<tr>\n",
       "  <th>Mortgage</th>           <td>    0.0005</td> <td>    0.001</td> <td>    0.848</td> <td> 0.396</td> <td>   -0.001</td> <td>    0.002</td>\n",
       "</tr>\n",
       "<tr>\n",
       "  <th>Securities Account</th> <td>   -0.9371</td> <td>    0.286</td> <td>   -3.280</td> <td> 0.001</td> <td>   -1.497</td> <td>   -0.377</td>\n",
       "</tr>\n",
       "<tr>\n",
       "  <th>CD Account</th>         <td>    3.8181</td> <td>    0.324</td> <td>   11.788</td> <td> 0.000</td> <td>    3.183</td> <td>    4.453</td>\n",
       "</tr>\n",
       "<tr>\n",
       "  <th>Online</th>             <td>   -0.6724</td> <td>    0.157</td> <td>   -4.280</td> <td> 0.000</td> <td>   -0.980</td> <td>   -0.364</td>\n",
       "</tr>\n",
       "<tr>\n",
       "  <th>CreditCard</th>         <td>   -1.1181</td> <td>    0.205</td> <td>   -5.454</td> <td> 0.000</td> <td>   -1.520</td> <td>   -0.716</td>\n",
       "</tr>\n",
       "</table>"
      ],
      "text/plain": [
       "<class 'statsmodels.iolib.summary.Summary'>\n",
       "\"\"\"\n",
       "                           Logit Regression Results                           \n",
       "==============================================================================\n",
       "Dep. Variable:          Personal Loan   No. Observations:                 4987\n",
       "Model:                          Logit   Df Residuals:                     4975\n",
       "Method:                           MLE   Df Model:                           11\n",
       "Date:                Wed, 02 Sep 2020   Pseudo R-squ.:                  0.5936\n",
       "Time:                        17:39:17   Log-Likelihood:                -641.93\n",
       "converged:                       True   LL-Null:                       -1579.7\n",
       "Covariance Type:            nonrobust   LLR p-value:                     0.000\n",
       "======================================================================================\n",
       "                         coef    std err          z      P>|z|      [0.025      0.975]\n",
       "--------------------------------------------------------------------------------------\n",
       "const                -12.1727      1.645     -7.399      0.000     -15.397      -8.948\n",
       "Age                   -0.0541      0.061     -0.882      0.378      -0.174       0.066\n",
       "Experience             0.0642      0.061      1.054      0.292      -0.055       0.184\n",
       "Income                 0.0545      0.003     20.822      0.000       0.049       0.060\n",
       "Family                 0.6947      0.074      9.348      0.000       0.549       0.840\n",
       "CCAvg                  0.1236      0.040      3.117      0.002       0.046       0.201\n",
       "Education              1.7363      0.115     15.091      0.000       1.511       1.962\n",
       "Mortgage               0.0005      0.001      0.848      0.396      -0.001       0.002\n",
       "Securities Account    -0.9371      0.286     -3.280      0.001      -1.497      -0.377\n",
       "CD Account             3.8181      0.324     11.788      0.000       3.183       4.453\n",
       "Online                -0.6724      0.157     -4.280      0.000      -0.980      -0.364\n",
       "CreditCard            -1.1181      0.205     -5.454      0.000      -1.520      -0.716\n",
       "======================================================================================\n",
       "\"\"\""
      ]
     },
     "execution_count": 15,
     "metadata": {},
     "output_type": "execute_result"
    }
   ],
   "source": [
    "result.summary()"
   ]
  },
  {
   "cell_type": "markdown",
   "metadata": {},
   "source": [
    "# ATTRITION in LG"
   ]
  },
  {
   "cell_type": "code",
   "execution_count": 8,
   "metadata": {},
   "outputs": [
    {
     "data": {
      "text/plain": [
       "(4410, 24)"
      ]
     },
     "execution_count": 8,
     "metadata": {},
     "output_type": "execute_result"
    }
   ],
   "source": [
    "df1=pd.read_csv('D:/Lets Upgrade AI-ML/Assignments/Day 7/general_data.csv')\n",
    "df1.shape"
   ]
  },
  {
   "cell_type": "code",
   "execution_count": 9,
   "metadata": {},
   "outputs": [
    {
     "data": {
      "text/plain": [
       "(4382, 24)"
      ]
     },
     "execution_count": 9,
     "metadata": {},
     "output_type": "execute_result"
    }
   ],
   "source": [
    "df1.dropna(inplace=True)\n",
    "df1.shape"
   ]
  },
  {
   "cell_type": "code",
   "execution_count": 10,
   "metadata": {},
   "outputs": [
    {
     "data": {
      "text/plain": [
       "Index(['Age', 'Attrition', 'BusinessTravel', 'Department', 'DistanceFromHome',\n",
       "       'Education', 'EducationField', 'EmployeeCount', 'EmployeeID', 'Gender',\n",
       "       'JobLevel', 'JobRole', 'MaritalStatus', 'MonthlyIncome',\n",
       "       'NumCompaniesWorked', 'Over18', 'PercentSalaryHike', 'StandardHours',\n",
       "       'StockOptionLevel', 'TotalWorkingYears', 'TrainingTimesLastYear',\n",
       "       'YearsAtCompany', 'YearsSinceLastPromotion', 'YearsWithCurrManager'],\n",
       "      dtype='object')"
      ]
     },
     "execution_count": 10,
     "metadata": {},
     "output_type": "execute_result"
    }
   ],
   "source": [
    "df1.columns"
   ]
  },
  {
   "cell_type": "code",
   "execution_count": 11,
   "metadata": {},
   "outputs": [],
   "source": [
    "df1 = df1.drop(columns = ['EmployeeID', 'EmployeeCount', 'Over18', 'StandardHours', ])"
   ]
  },
  {
   "cell_type": "code",
   "execution_count": 14,
   "metadata": {},
   "outputs": [],
   "source": [
    "from sklearn import preprocessing\n",
    "label = preprocessing.LabelEncoder()\n",
    "df1['Attrition'] = label.fit_transform(df1['Attrition'])\n",
    "df1['BusinessTravel'] = label.fit_transform(df1['BusinessTravel'])\n",
    "df1['EducationField'] = label.fit_transform(df1['EducationField'])\n",
    "df1['Gender'] = label.fit_transform(df1['Gender'])\n",
    "df1['Department'] = label.fit_transform(df1['Department'])\n",
    "df1['MaritalStatus'] = label.fit_transform(df1['MaritalStatus'])\n",
    "df1['JobRole'] = label.fit_transform(df1['JobRole'])"
   ]
  },
  {
   "cell_type": "code",
   "execution_count": 15,
   "metadata": {},
   "outputs": [],
   "source": [
    "Y1 = df1['Attrition']\n",
    "X2 = df1.drop(columns = ['Attrition'])"
   ]
  },
  {
   "cell_type": "code",
   "execution_count": 16,
   "metadata": {},
   "outputs": [],
   "source": [
    "X3 = sm.add_constant(X2)\n",
    "Logistic1 = sm.Logit(Y1,X3)"
   ]
  },
  {
   "cell_type": "code",
   "execution_count": 17,
   "metadata": {},
   "outputs": [
    {
     "name": "stdout",
     "output_type": "stream",
     "text": [
      "Optimization terminated successfully.\n",
      "         Current function value: 0.392916\n",
      "         Iterations 7\n"
     ]
    }
   ],
   "source": [
    "results2 = Logistic1.fit()\n"
   ]
  },
  {
   "cell_type": "code",
   "execution_count": 18,
   "metadata": {},
   "outputs": [
    {
     "data": {
      "text/html": [
       "<table class=\"simpletable\">\n",
       "<caption>Logit Regression Results</caption>\n",
       "<tr>\n",
       "  <th>Dep. Variable:</th>       <td>Attrition</td>    <th>  No. Observations:  </th>  <td>  4382</td>  \n",
       "</tr>\n",
       "<tr>\n",
       "  <th>Model:</th>                 <td>Logit</td>      <th>  Df Residuals:      </th>  <td>  4362</td>  \n",
       "</tr>\n",
       "<tr>\n",
       "  <th>Method:</th>                 <td>MLE</td>       <th>  Df Model:          </th>  <td>    19</td>  \n",
       "</tr>\n",
       "<tr>\n",
       "  <th>Date:</th>            <td>Thu, 03 Sep 2020</td> <th>  Pseudo R-squ.:     </th>  <td>0.1093</td>  \n",
       "</tr>\n",
       "<tr>\n",
       "  <th>Time:</th>                <td>11:14:17</td>     <th>  Log-Likelihood:    </th> <td> -1721.8</td> \n",
       "</tr>\n",
       "<tr>\n",
       "  <th>converged:</th>             <td>True</td>       <th>  LL-Null:           </th> <td> -1933.1</td> \n",
       "</tr>\n",
       "<tr>\n",
       "  <th>Covariance Type:</th>     <td>nonrobust</td>    <th>  LLR p-value:       </th> <td>8.681e-78</td>\n",
       "</tr>\n",
       "</table>\n",
       "<table class=\"simpletable\">\n",
       "<tr>\n",
       "             <td></td>                <th>coef</th>     <th>std err</th>      <th>z</th>      <th>P>|z|</th>  <th>[0.025</th>    <th>0.975]</th>  \n",
       "</tr>\n",
       "<tr>\n",
       "  <th>const</th>                   <td>    0.0270</td> <td>    0.414</td> <td>    0.065</td> <td> 0.948</td> <td>   -0.785</td> <td>    0.839</td>\n",
       "</tr>\n",
       "<tr>\n",
       "  <th>Age</th>                     <td>   -0.0307</td> <td>    0.007</td> <td>   -4.478</td> <td> 0.000</td> <td>   -0.044</td> <td>   -0.017</td>\n",
       "</tr>\n",
       "<tr>\n",
       "  <th>BusinessTravel</th>          <td>   -0.0137</td> <td>    0.066</td> <td>   -0.209</td> <td> 0.834</td> <td>   -0.143</td> <td>    0.115</td>\n",
       "</tr>\n",
       "<tr>\n",
       "  <th>Department</th>              <td>   -0.2229</td> <td>    0.082</td> <td>   -2.735</td> <td> 0.006</td> <td>   -0.383</td> <td>   -0.063</td>\n",
       "</tr>\n",
       "<tr>\n",
       "  <th>DistanceFromHome</th>        <td>   -0.0012</td> <td>    0.005</td> <td>   -0.231</td> <td> 0.818</td> <td>   -0.012</td> <td>    0.009</td>\n",
       "</tr>\n",
       "<tr>\n",
       "  <th>Education</th>               <td>   -0.0664</td> <td>    0.043</td> <td>   -1.555</td> <td> 0.120</td> <td>   -0.150</td> <td>    0.017</td>\n",
       "</tr>\n",
       "<tr>\n",
       "  <th>EducationField</th>          <td>   -0.0954</td> <td>    0.034</td> <td>   -2.849</td> <td> 0.004</td> <td>   -0.161</td> <td>   -0.030</td>\n",
       "</tr>\n",
       "<tr>\n",
       "  <th>Gender</th>                  <td>    0.0855</td> <td>    0.090</td> <td>    0.952</td> <td> 0.341</td> <td>   -0.091</td> <td>    0.262</td>\n",
       "</tr>\n",
       "<tr>\n",
       "  <th>JobLevel</th>                <td>   -0.0285</td> <td>    0.040</td> <td>   -0.716</td> <td> 0.474</td> <td>   -0.107</td> <td>    0.050</td>\n",
       "</tr>\n",
       "<tr>\n",
       "  <th>JobRole</th>                 <td>    0.0400</td> <td>    0.018</td> <td>    2.226</td> <td> 0.026</td> <td>    0.005</td> <td>    0.075</td>\n",
       "</tr>\n",
       "<tr>\n",
       "  <th>MaritalStatus</th>           <td>    0.5835</td> <td>    0.063</td> <td>    9.212</td> <td> 0.000</td> <td>    0.459</td> <td>    0.708</td>\n",
       "</tr>\n",
       "<tr>\n",
       "  <th>MonthlyIncome</th>           <td>-1.815e-06</td> <td> 9.57e-07</td> <td>   -1.897</td> <td> 0.058</td> <td>-3.69e-06</td> <td> 6.01e-08</td>\n",
       "</tr>\n",
       "<tr>\n",
       "  <th>NumCompaniesWorked</th>      <td>    0.1174</td> <td>    0.018</td> <td>    6.390</td> <td> 0.000</td> <td>    0.081</td> <td>    0.153</td>\n",
       "</tr>\n",
       "<tr>\n",
       "  <th>PercentSalaryHike</th>       <td>    0.0126</td> <td>    0.012</td> <td>    1.067</td> <td> 0.286</td> <td>   -0.011</td> <td>    0.036</td>\n",
       "</tr>\n",
       "<tr>\n",
       "  <th>StockOptionLevel</th>        <td>   -0.0675</td> <td>    0.052</td> <td>   -1.302</td> <td> 0.193</td> <td>   -0.169</td> <td>    0.034</td>\n",
       "</tr>\n",
       "<tr>\n",
       "  <th>TotalWorkingYears</th>       <td>   -0.0584</td> <td>    0.012</td> <td>   -4.873</td> <td> 0.000</td> <td>   -0.082</td> <td>   -0.035</td>\n",
       "</tr>\n",
       "<tr>\n",
       "  <th>TrainingTimesLastYear</th>   <td>   -0.1443</td> <td>    0.035</td> <td>   -4.097</td> <td> 0.000</td> <td>   -0.213</td> <td>   -0.075</td>\n",
       "</tr>\n",
       "<tr>\n",
       "  <th>YearsAtCompany</th>          <td>    0.0132</td> <td>    0.018</td> <td>    0.718</td> <td> 0.473</td> <td>   -0.023</td> <td>    0.049</td>\n",
       "</tr>\n",
       "<tr>\n",
       "  <th>YearsSinceLastPromotion</th> <td>    0.1328</td> <td>    0.020</td> <td>    6.479</td> <td> 0.000</td> <td>    0.093</td> <td>    0.173</td>\n",
       "</tr>\n",
       "<tr>\n",
       "  <th>YearsWithCurrManager</th>    <td>   -0.1394</td> <td>    0.022</td> <td>   -6.288</td> <td> 0.000</td> <td>   -0.183</td> <td>   -0.096</td>\n",
       "</tr>\n",
       "</table>"
      ],
      "text/plain": [
       "<class 'statsmodels.iolib.summary.Summary'>\n",
       "\"\"\"\n",
       "                           Logit Regression Results                           \n",
       "==============================================================================\n",
       "Dep. Variable:              Attrition   No. Observations:                 4382\n",
       "Model:                          Logit   Df Residuals:                     4362\n",
       "Method:                           MLE   Df Model:                           19\n",
       "Date:                Thu, 03 Sep 2020   Pseudo R-squ.:                  0.1093\n",
       "Time:                        11:14:17   Log-Likelihood:                -1721.8\n",
       "converged:                       True   LL-Null:                       -1933.1\n",
       "Covariance Type:            nonrobust   LLR p-value:                 8.681e-78\n",
       "===========================================================================================\n",
       "                              coef    std err          z      P>|z|      [0.025      0.975]\n",
       "-------------------------------------------------------------------------------------------\n",
       "const                       0.0270      0.414      0.065      0.948      -0.785       0.839\n",
       "Age                        -0.0307      0.007     -4.478      0.000      -0.044      -0.017\n",
       "BusinessTravel             -0.0137      0.066     -0.209      0.834      -0.143       0.115\n",
       "Department                 -0.2229      0.082     -2.735      0.006      -0.383      -0.063\n",
       "DistanceFromHome           -0.0012      0.005     -0.231      0.818      -0.012       0.009\n",
       "Education                  -0.0664      0.043     -1.555      0.120      -0.150       0.017\n",
       "EducationField             -0.0954      0.034     -2.849      0.004      -0.161      -0.030\n",
       "Gender                      0.0855      0.090      0.952      0.341      -0.091       0.262\n",
       "JobLevel                   -0.0285      0.040     -0.716      0.474      -0.107       0.050\n",
       "JobRole                     0.0400      0.018      2.226      0.026       0.005       0.075\n",
       "MaritalStatus               0.5835      0.063      9.212      0.000       0.459       0.708\n",
       "MonthlyIncome           -1.815e-06   9.57e-07     -1.897      0.058   -3.69e-06    6.01e-08\n",
       "NumCompaniesWorked          0.1174      0.018      6.390      0.000       0.081       0.153\n",
       "PercentSalaryHike           0.0126      0.012      1.067      0.286      -0.011       0.036\n",
       "StockOptionLevel           -0.0675      0.052     -1.302      0.193      -0.169       0.034\n",
       "TotalWorkingYears          -0.0584      0.012     -4.873      0.000      -0.082      -0.035\n",
       "TrainingTimesLastYear      -0.1443      0.035     -4.097      0.000      -0.213      -0.075\n",
       "YearsAtCompany              0.0132      0.018      0.718      0.473      -0.023       0.049\n",
       "YearsSinceLastPromotion     0.1328      0.020      6.479      0.000       0.093       0.173\n",
       "YearsWithCurrManager       -0.1394      0.022     -6.288      0.000      -0.183      -0.096\n",
       "===========================================================================================\n",
       "\"\"\""
      ]
     },
     "execution_count": 18,
     "metadata": {},
     "output_type": "execute_result"
    }
   ],
   "source": [
    "results2.summary()"
   ]
  },
  {
   "cell_type": "markdown",
   "metadata": {},
   "source": [
    "# Inference\n",
    "\n",
    "## The following factors affect attrition in employees :\n",
    "\n",
    "1.Age of the employee\n",
    "2.Number of years under current manager\n",
    "3.Total number of companies the employee has worked for before\n",
    "4.Number of years since the last promotion of the employee\n",
    "5.Number of times training was conducted for this employee last year\n",
    "6.Total number of years the employee has worked so far \n",
    "7.Marital status \n"
   ]
  }
 ],
 "metadata": {
  "kernelspec": {
   "display_name": "Python 3",
   "language": "python",
   "name": "python3"
  },
  "language_info": {
   "codemirror_mode": {
    "name": "ipython",
    "version": 3
   },
   "file_extension": ".py",
   "mimetype": "text/x-python",
   "name": "python",
   "nbconvert_exporter": "python",
   "pygments_lexer": "ipython3",
   "version": "3.8.3"
  }
 },
 "nbformat": 4,
 "nbformat_minor": 4
}
