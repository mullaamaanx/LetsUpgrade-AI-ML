{
 "cells": [
  {
   "cell_type": "markdown",
   "metadata": {},
   "source": [
    "# ___Day 5 Assignment.___"
   ]
  },
  {
   "cell_type": "markdown",
   "metadata": {},
   "source": [
    "## ___Question 1___"
   ]
  },
  {
   "cell_type": "markdown",
   "metadata": {},
   "source": [
    "Write a Python program to find the first 20 non-even prime natural numbers."
   ]
  },
  {
   "cell_type": "code",
   "execution_count": 6,
   "metadata": {
    "scrolled": true
   },
   "outputs": [
    {
     "name": "stdout",
     "output_type": "stream",
     "text": [
      "How many non even prime numbers do you want:12\n",
      "Following are the 12 non even prime numbers.\n",
      "3\n",
      "5\n",
      "7\n",
      "11\n",
      "13\n",
      "17\n",
      "19\n",
      "23\n",
      "29\n",
      "31\n",
      "37\n",
      "41\n"
     ]
    }
   ],
   "source": [
    "#hint: use a list, len() function.\n",
    "a = int(input(\"How many non even prime numbers do you want:\"))\n",
    "nos = range(1,a*10)\n",
    "v = [] \n",
    "for num in nos:\n",
    "    if num > 2 and len(v)<=a-1: \n",
    "        for i in range(2,num):\n",
    "            if num % i == 0:\n",
    "                break\n",
    "        else:\n",
    "            v.append(num)\n",
    "print(\"Following are the\", a , \"non even prime numbers.\" )\n",
    "for j in v:\n",
    "    print(j)         "
   ]
  },
  {
   "cell_type": "markdown",
   "metadata": {},
   "source": [
    "## ___Question 2___"
   ]
  },
  {
   "cell_type": "markdown",
   "metadata": {},
   "source": [
    "Write a Python program to implement 15 functions of string."
   ]
  },
  {
   "cell_type": "code",
   "execution_count": 4,
   "metadata": {},
   "outputs": [
    {
     "name": "stdout",
     "output_type": "stream",
     "text": [
      "I am jupyter notebook\n",
      "i am jupyter notebook\n",
      "I AM JUPYTER NOTEBOOK\n",
      "False\n",
      "True\n",
      "False\n",
      "i am Jupyter Notebook\n",
      "i am Jupyter Notebook\n",
      "i am Jupyter Notebook\n",
      "['i', 'am', 'Jupyter', 'Notebook']\n",
      "I Am Jupyter Notebook\n",
      "I AM jUPYTER nOTEBOOK\n",
      "True\n",
      "I Am Jupyter Notebook\n",
      "Thermite thatcher are good friends\n"
     ]
    }
   ],
   "source": [
    "#Write a Python program to implement 15 functions of string.\n",
    "\n",
    "s1 = \"i am Jupyter Notebook\" \n",
    "s2= \"i.am.Jupyter.Notebook\" \n",
    "s3=[\"Thermite\", \"thatcher\", \"are\" , \"good friends\"]\n",
    "print(s1.capitalize())\n",
    "print(s1.lower())\n",
    "print(s1.upper())\n",
    "print(s1.isnumeric())\n",
    "print(s1.isprintable())\n",
    "print(s1.isalpha())\n",
    "print(s1.lstrip())\n",
    "print(s1.rstrip())\n",
    "print(s1.strip())\n",
    "print(s2.split(\".\"))\n",
    "print(s1.title())\n",
    "print(s1.swapcase())\n",
    "print(s1.startswith(\"i\"))\n",
    "print(s2.replace(\".\",\" \").title())\n",
    "print(\" \".join(s3))"
   ]
  },
  {
   "cell_type": "markdown",
   "metadata": {},
   "source": [
    "## ___Question 3___ "
   ]
  },
  {
   "cell_type": "markdown",
   "metadata": {},
   "source": [
    "Write a Python program to check if the given string is a Palindrome or Anagram or None of them.\n",
    "Display the message accordingly to the user.\n"
   ]
  },
  {
   "cell_type": "code",
   "execution_count": 5,
   "metadata": {},
   "outputs": [
    {
     "name": "stdout",
     "output_type": "stream",
     "text": [
      "Enter 'P' to check for Palindrome or 'A' to check for Anagram: p\n",
      "Enter your word here:racecar\n",
      "The given String ' racecar ' is a Palindrome.\n"
     ]
    }
   ],
   "source": [
    "#Write a Python program to check if the given string is a Palindrome or Anagram or None of them. \n",
    "#Display the message accordingly to the user.\n",
    "# a = input(\"Enter your First word here:\")\n",
    "# b = input(\"Enter your Second word here:\")\n",
    "\n",
    "e = input(\"Enter 'P' to check for Palindrome or 'A' to check for Anagram: \")\n",
    "e = e.upper()\n",
    "if e==\"P\":\n",
    "    a = input(\"Enter your word here:\")\n",
    "    if a==a[::-1]:\n",
    "        print(\"The given String '\" , a , \"' is a Palindrome.\")\n",
    "    else:\n",
    "        print(\"The given String is not a Palindrome.\")\n",
    "elif e==\"A\":\n",
    "    k = input(\"Enter your First word here:\")\n",
    "    l = input(\"Enter your Second word here:\")\n",
    "    if sorted(k)==sorted(l):\n",
    "        print(\"The given strings are Anagram of each other.\")\n",
    "    else:\n",
    "        print(\"The given strings are not an Anagram of each other\")\n",
    "else:\n",
    "    print(\"Please Enter the CORRECT OPTION.\")\n",
    "    "
   ]
  },
  {
   "cell_type": "markdown",
   "metadata": {},
   "source": [
    "## ___Question 4___"
   ]
  },
  {
   "cell_type": "markdown",
   "metadata": {},
   "source": [
    "Write a Python's user defined function that removes all the additional characters from the string\n",
    "and converts it finally to lower case using built-in lower(). eg: If the string is \"Dr. Darshan Ingle\n",
    "@AI-ML Trainer\", then the output be \"drdarshaningleaimltrainer\"."
   ]
  },
  {
   "cell_type": "code",
   "execution_count": 1,
   "metadata": {},
   "outputs": [
    {
     "name": "stdout",
     "output_type": "stream",
     "text": [
      "Enter your sentence here: Dr. Darshan Ingle @AI-ML Trainer\n",
      "drdarshaningleaimltrainer"
     ]
    }
   ],
   "source": [
    "# Write a Python's user defined function that removes all the additional characters from the string\n",
    "# and converts it finally to lower case using built-in lower(). eg: If the string is \"Dr. Darshan Ingle\n",
    "# @AI-ML Trainer\", then the output be \"dr darshan ingle aiml trainer\".\n",
    "\n",
    "def remove_char(str):\n",
    "    for i in str:\n",
    "        if i.isalpha():\n",
    "            print(i.lower(),end=\"\")    \n",
    "    \n",
    "a = input(\"Enter your sentence here: \")\n",
    "remove_char(a)\n",
    "  "
   ]
  },
  {
   "cell_type": "code",
   "execution_count": null,
   "metadata": {},
   "outputs": [],
   "source": []
  }
 ],
 "metadata": {
  "kernelspec": {
   "display_name": "Python 3",
   "language": "python",
   "name": "python3"
  },
  "language_info": {
   "codemirror_mode": {
    "name": "ipython",
    "version": 3
   },
   "file_extension": ".py",
   "mimetype": "text/x-python",
   "name": "python",
   "nbconvert_exporter": "python",
   "pygments_lexer": "ipython3",
   "version": "3.7.6"
  }
 },
 "nbformat": 4,
 "nbformat_minor": 4
}
